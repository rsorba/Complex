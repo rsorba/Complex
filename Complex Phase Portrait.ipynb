{
 "cells": [
  {
   "cell_type": "markdown",
   "metadata": {},
   "source": [
    "### Hello Complex Students!\n",
    "\n",
    "This is a Jupyter Notebook. It is designed to let you interact with code and plots through a web browser. It is divided in to various cells. To run a cell, click on it and press <code>Shift + Enter</code>. Alternatively, you can run all the cells by clicking the \"Fast Forward\" button above. The code cells are dynamic, so feel free to edit and change variables as you desire.\n",
    "\n",
    "This particular notebook will let you make phase portraits of complex functions.\n",
    "\n",
    "**Step 1:**\n",
    "\n",
    "Load the necessary numerical and plotting libraries by running the next few cells"
   ]
  },
  {
   "cell_type": "code",
   "execution_count": null,
   "metadata": {},
   "outputs": [],
   "source": [
    "import numpy as np\n",
    "import matplotlib.pyplot as plt\n",
    "import mpmath\n",
    "import ipywidgets as widgets"
   ]
  },
  {
   "cell_type": "code",
   "execution_count": null,
   "metadata": {},
   "outputs": [],
   "source": [
    "%matplotlib widget\n",
    "mpmath.dps = 8"
   ]
  },
  {
   "cell_type": "markdown",
   "metadata": {},
   "source": [
    "**Step 2:**\n",
    "\n",
    "Define the complex function you want plotted below. I have given an example of a complex polynomial, and a more complicated elliptical function (commented out by default).\n",
    "\n",
    "Feel free to make your own functions! Just be sure the name of the function you want to use is <code>complexFunc</code>."
   ]
  },
  {
   "cell_type": "code",
   "execution_count": null,
   "metadata": {},
   "outputs": [],
   "source": [
    "# polynomial\n",
    "def complexFunc(Z):\n",
    "    return (Z - 1) / (Z**2 + Z - 1)\n",
    "\n",
    "# uncomment the three lines below for an elliptic function WARNING: slower than above! Please be patient.\n",
    "#jtheta = np.vectorize(mpmath.jtheta, 'D')\n",
    "#def complexFunc(Z):  \n",
    "#    return jtheta(1, Z, 0.01)\n",
    "    "
   ]
  },
  {
   "cell_type": "markdown",
   "metadata": {},
   "source": [
    "**Step 3:**\n",
    "\n",
    "Plot the interactive phase portrait by running the next two cells. In the first cell, you decide what range of values in the imaginary plane you want to plot by change the <code>max_axis_value</code> variable. The default is to plot from -5 to +5 in both the real and imaginary axis. \n",
    "\n",
    "The second cell should produce a graph with several interactive sliders and check boxes. It shows the phase as color, and you can add contour levels for both the phase and the modulus. There are buttons on the side of the figure that let you pan and zoom in. Play around until you make something pretty!"
   ]
  },
  {
   "cell_type": "code",
   "execution_count": null,
   "metadata": {},
   "outputs": [],
   "source": [
    "max_axis_value = 5\n",
    "\n",
    "# define the plotting grid\n",
    "x = np.arange(-max_axis_value, max_axis_value, max_axis_value / 250)\n",
    "X, Y = np.meshgrid(x, x)\n",
    "\n",
    "# calculate function\n",
    "Z = X + 1.j * Y\n",
    "surface = complexFunc(Z)\n",
    "\n",
    "# calculate phase and modulus from complex surface\n",
    "# negative to induce 180 deg phase shift to make colormap red at zero phase\n",
    "phase = np.angle(-surface) \n",
    "modulus = np.abs(surface)\n",
    "\n",
    "#precompute modulus and phase contours:\n",
    "modContour = [np.ceil(np.log(modulus) * i) - np.log(modulus) * i for i in np.arange(0.4, 3, 0.2)]\n",
    "phaseContour = [np.ceil(phase * i/np.pi) - phase * i/np.pi for i in range(1, 11)]\n",
    "    "
   ]
  },
  {
   "cell_type": "code",
   "execution_count": null,
   "metadata": {},
   "outputs": [],
   "source": [
    "# close any previous plots to save memory\n",
    "plt.close('all')\n",
    "\n",
    "# create figure canvas\n",
    "with plt.ioff():\n",
    "    fig = plt.figure(figsize=[6,6])\n",
    "\n",
    "# plot the complex surface\n",
    "extent = [-max_axis_value, max_axis_value, -max_axis_value, max_axis_value]\n",
    "im = plt.imshow(phase, cmap='hsv', origin='lower', extent=extent, interpolation='nearest')\n",
    "mod_im = plt.imshow(modContour[2], cmap='Greys', origin='lower', extent=extent, interpolation='bilinear', alpha=0.2, visible=False)\n",
    "phase_im = plt.imshow(phaseContour[2], cmap='Greys', origin='lower', extent=extent, interpolation='bilinear', alpha=0.2, visible=False)\n",
    "\n",
    "##################\n",
    "\n",
    "# add colormap options\n",
    "def update_cmap(change):\n",
    "    im.set(cmap=change.new)\n",
    "    fig.canvas.draw_idle()\n",
    "    \n",
    "cMapSelect = widgets.Dropdown(\n",
    "    options=['hsv', 'twilight', 'twilight_shifted'],\n",
    "    value='hsv',\n",
    "    description='Color Map:',\n",
    "    disabled=False)\n",
    "\n",
    "cMapSelect.observe(update_cmap, names='value')\n",
    "\n",
    "################\n",
    "\n",
    "def update_mod_contour(change):\n",
    "    mod_im.set_data(modContour[change['new']])\n",
    "    fig.canvas.draw_idle()\n",
    "    \n",
    "mod_slider = widgets.IntSlider(value=2, \n",
    "                               min=1, \n",
    "                               max=9, \n",
    "                               description=\"Freq of Modulus Contours:\"\n",
    "                              )\n",
    "\n",
    "mod_slider.observe(update_mod_contour, names='value')\n",
    "\n",
    "################\n",
    "\n",
    "def update_show_mod(change):\n",
    "    mod_im.set(visible = change['new'])\n",
    "    fig.canvas.draw_idle()\n",
    "\n",
    "mod_check = widgets.Checkbox(\n",
    "    value=False,\n",
    "    description='Show Mod Contours',\n",
    "    disabled=False,\n",
    "    #indent=False\n",
    ")\n",
    "\n",
    "mod_check.observe(update_show_mod, names='value')\n",
    "\n",
    "################\n",
    "\n",
    "def update_phase_contour(change):\n",
    "    phase_im.set_data(phaseContour[change['new']])\n",
    "    fig.canvas.draw_idle()\n",
    "    \n",
    "phase_slider = widgets.IntSlider(value=2, \n",
    "                               min=1, \n",
    "                               max=9, \n",
    "                               description=\"Freq of Phase Contours:\"\n",
    "                              )\n",
    "\n",
    "phase_slider.observe(update_phase_contour, names='value')\n",
    "\n",
    "################\n",
    "\n",
    "def update_show_phase(change):\n",
    "    phase_im.set(visible = change['new'])\n",
    "    fig.canvas.draw_idle()\n",
    "\n",
    "phase_check = widgets.Checkbox(\n",
    "    value=False,\n",
    "    description='Show Phase Contours',\n",
    "    disabled=False,\n",
    "    #indent=False\n",
    ")\n",
    "\n",
    "phase_check.observe(update_show_phase, names='value')\n",
    "\n",
    "# create GUI\n",
    "widgets.VBox([fig.canvas, cMapSelect, mod_check, mod_slider, phase_check, phase_slider ])"
   ]
  },
  {
   "cell_type": "code",
   "execution_count": null,
   "metadata": {},
   "outputs": [],
   "source": []
  },
  {
   "cell_type": "code",
   "execution_count": null,
   "metadata": {},
   "outputs": [],
   "source": []
  }
 ],
 "metadata": {
  "kernelspec": {
   "display_name": "Python 3 (ipykernel)",
   "language": "python",
   "name": "python3"
  },
  "language_info": {
   "codemirror_mode": {
    "name": "ipython",
    "version": 3
   },
   "file_extension": ".py",
   "mimetype": "text/x-python",
   "name": "python",
   "nbconvert_exporter": "python",
   "pygments_lexer": "ipython3",
   "version": "3.12.0"
  }
 },
 "nbformat": 4,
 "nbformat_minor": 4
}
